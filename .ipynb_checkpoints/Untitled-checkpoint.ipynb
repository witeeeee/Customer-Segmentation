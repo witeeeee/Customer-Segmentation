{
 "cells": [
  {
   "cell_type": "code",
   "execution_count": 1,
   "id": "1462d122",
   "metadata": {},
   "outputs": [
    {
     "data": {
      "text/html": [
       "<table class=\"dataframe\">\n",
       "<caption>A data.frame: 6 × 10</caption>\n",
       "<thead>\n",
       "\t<tr><th></th><th scope=col>ID</th><th scope=col>Gender</th><th scope=col>Ever_Married</th><th scope=col>Age</th><th scope=col>Graduated</th><th scope=col>Profession</th><th scope=col>Work_Experience</th><th scope=col>Spending_Score</th><th scope=col>Family_Size</th><th scope=col>Var_1</th></tr>\n",
       "\t<tr><th></th><th scope=col>&lt;int&gt;</th><th scope=col>&lt;chr&gt;</th><th scope=col>&lt;chr&gt;</th><th scope=col>&lt;int&gt;</th><th scope=col>&lt;chr&gt;</th><th scope=col>&lt;chr&gt;</th><th scope=col>&lt;int&gt;</th><th scope=col>&lt;chr&gt;</th><th scope=col>&lt;int&gt;</th><th scope=col>&lt;chr&gt;</th></tr>\n",
       "</thead>\n",
       "<tbody>\n",
       "\t<tr><th scope=row>1</th><td>462809</td><td>Male  </td><td>No </td><td>22</td><td>No </td><td>Healthcare   </td><td> 1</td><td>Low    </td><td>4</td><td>Cat_4</td></tr>\n",
       "\t<tr><th scope=row>2</th><td>462643</td><td>Female</td><td>Yes</td><td>38</td><td>Yes</td><td>Engineer     </td><td>NA</td><td>Average</td><td>3</td><td>Cat_4</td></tr>\n",
       "\t<tr><th scope=row>3</th><td>466315</td><td>Female</td><td>Yes</td><td>67</td><td>Yes</td><td>Engineer     </td><td> 1</td><td>Low    </td><td>1</td><td>Cat_6</td></tr>\n",
       "\t<tr><th scope=row>4</th><td>461735</td><td>Male  </td><td>Yes</td><td>67</td><td>Yes</td><td>Lawyer       </td><td> 0</td><td>High   </td><td>2</td><td>Cat_6</td></tr>\n",
       "\t<tr><th scope=row>5</th><td>462669</td><td>Female</td><td>Yes</td><td>40</td><td>Yes</td><td>Entertainment</td><td>NA</td><td>High   </td><td>6</td><td>Cat_6</td></tr>\n",
       "\t<tr><th scope=row>6</th><td>461319</td><td>Male  </td><td>Yes</td><td>56</td><td>No </td><td>Artist       </td><td> 0</td><td>Average</td><td>2</td><td>Cat_6</td></tr>\n",
       "</tbody>\n",
       "</table>\n"
      ],
      "text/latex": [
       "A data.frame: 6 × 10\n",
       "\\begin{tabular}{r|llllllllll}\n",
       "  & ID & Gender & Ever\\_Married & Age & Graduated & Profession & Work\\_Experience & Spending\\_Score & Family\\_Size & Var\\_1\\\\\n",
       "  & <int> & <chr> & <chr> & <int> & <chr> & <chr> & <int> & <chr> & <int> & <chr>\\\\\n",
       "\\hline\n",
       "\t1 & 462809 & Male   & No  & 22 & No  & Healthcare    &  1 & Low     & 4 & Cat\\_4\\\\\n",
       "\t2 & 462643 & Female & Yes & 38 & Yes & Engineer      & NA & Average & 3 & Cat\\_4\\\\\n",
       "\t3 & 466315 & Female & Yes & 67 & Yes & Engineer      &  1 & Low     & 1 & Cat\\_6\\\\\n",
       "\t4 & 461735 & Male   & Yes & 67 & Yes & Lawyer        &  0 & High    & 2 & Cat\\_6\\\\\n",
       "\t5 & 462669 & Female & Yes & 40 & Yes & Entertainment & NA & High    & 6 & Cat\\_6\\\\\n",
       "\t6 & 461319 & Male   & Yes & 56 & No  & Artist        &  0 & Average & 2 & Cat\\_6\\\\\n",
       "\\end{tabular}\n"
      ],
      "text/markdown": [
       "\n",
       "A data.frame: 6 × 10\n",
       "\n",
       "| <!--/--> | ID &lt;int&gt; | Gender &lt;chr&gt; | Ever_Married &lt;chr&gt; | Age &lt;int&gt; | Graduated &lt;chr&gt; | Profession &lt;chr&gt; | Work_Experience &lt;int&gt; | Spending_Score &lt;chr&gt; | Family_Size &lt;int&gt; | Var_1 &lt;chr&gt; |\n",
       "|---|---|---|---|---|---|---|---|---|---|---|\n",
       "| 1 | 462809 | Male   | No  | 22 | No  | Healthcare    |  1 | Low     | 4 | Cat_4 |\n",
       "| 2 | 462643 | Female | Yes | 38 | Yes | Engineer      | NA | Average | 3 | Cat_4 |\n",
       "| 3 | 466315 | Female | Yes | 67 | Yes | Engineer      |  1 | Low     | 1 | Cat_6 |\n",
       "| 4 | 461735 | Male   | Yes | 67 | Yes | Lawyer        |  0 | High    | 2 | Cat_6 |\n",
       "| 5 | 462669 | Female | Yes | 40 | Yes | Entertainment | NA | High    | 6 | Cat_6 |\n",
       "| 6 | 461319 | Male   | Yes | 56 | No  | Artist        |  0 | Average | 2 | Cat_6 |\n",
       "\n"
      ],
      "text/plain": [
       "  ID     Gender Ever_Married Age Graduated Profession    Work_Experience\n",
       "1 462809 Male   No           22  No        Healthcare     1             \n",
       "2 462643 Female Yes          38  Yes       Engineer      NA             \n",
       "3 466315 Female Yes          67  Yes       Engineer       1             \n",
       "4 461735 Male   Yes          67  Yes       Lawyer         0             \n",
       "5 462669 Female Yes          40  Yes       Entertainment NA             \n",
       "6 461319 Male   Yes          56  No        Artist         0             \n",
       "  Spending_Score Family_Size Var_1\n",
       "1 Low            4           Cat_4\n",
       "2 Average        3           Cat_4\n",
       "3 Low            1           Cat_6\n",
       "4 High           2           Cat_6\n",
       "5 High           6           Cat_6\n",
       "6 Average        2           Cat_6"
      ]
     },
     "metadata": {},
     "output_type": "display_data"
    }
   ],
   "source": [
    "data <- read.csv(\"customer.csv\")\n",
    "\n",
    "head(data)"
   ]
  },
  {
   "cell_type": "code",
   "execution_count": 3,
   "id": "ccc2b48b",
   "metadata": {},
   "outputs": [
    {
     "name": "stderr",
     "output_type": "stream",
     "text": [
      "Loading required package: lattice\n",
      "\n",
      "Loading required package: survival\n",
      "\n",
      "Loading required package: Formula\n",
      "\n",
      "Loading required package: ggplot2\n",
      "\n",
      "\n",
      "Attaching package: 'Hmisc'\n",
      "\n",
      "\n",
      "The following objects are masked from 'package:base':\n",
      "\n",
      "    format.pval, units\n",
      "\n",
      "\n"
     ]
    },
    {
     "data": {
      "text/plain": [
       "data \n",
       "\n",
       " 10  Variables      10695  Observations\n",
       "--------------------------------------------------------------------------------\n",
       "ID \n",
       "       n  missing distinct     Info     Mean      Gmd      .05      .10 \n",
       "   10695        0     8363        1   463468     3003   459422   459867 \n",
       "     .25      .50      .75      .90      .95 \n",
       "  461221   463451   465734   467086   467520 \n",
       "\n",
       "lowest : 458982 458983 458984 458985 458986, highest: 467969 467971 467972 467973 467974\n",
       "--------------------------------------------------------------------------------\n",
       "Gender \n",
       "       n  missing distinct \n",
       "   10695        0        2 \n",
       "                        \n",
       "Value      Female   Male\n",
       "Frequency    4854   5841\n",
       "Proportion  0.454  0.546\n",
       "--------------------------------------------------------------------------------\n",
       "Ever_Married \n",
       "       n  missing distinct \n",
       "   10505      190        2 \n",
       "                      \n",
       "Value         No   Yes\n",
       "Frequency   4342  6163\n",
       "Proportion 0.413 0.587\n",
       "--------------------------------------------------------------------------------\n",
       "Age \n",
       "       n  missing distinct     Info     Mean      Gmd      .05      .10 \n",
       "   10695        0       67        1    43.51    18.75       20       25 \n",
       "     .25      .50      .75      .90      .95 \n",
       "      30       41       53       69       77 \n",
       "\n",
       "lowest : 18 19 20 21 22, highest: 85 86 87 88 89\n",
       "--------------------------------------------------------------------------------\n",
       "Graduated \n",
       "       n  missing distinct \n",
       "   10593      102        2 \n",
       "                    \n",
       "Value        No  Yes\n",
       "Frequency  4023 6570\n",
       "Proportion 0.38 0.62\n",
       "--------------------------------------------------------------------------------\n",
       "Profession \n",
       "       n  missing distinct \n",
       "   10533      162        9 \n",
       "\n",
       "lowest : Artist        Doctor        Engineer      Entertainment Executive    \n",
       "highest: Executive     Healthcare    Homemaker     Lawyer        Marketing    \n",
       "\n",
       "Artist (3318, 0.315), Doctor (930, 0.088), Engineer (935, 0.089), Entertainment\n",
       "(1250, 0.119), Executive (775, 0.074), Healthcare (1750, 0.166), Homemaker\n",
       "(328, 0.031), Lawyer (844, 0.080), Marketing (403, 0.038)\n",
       "--------------------------------------------------------------------------------\n",
       "Work_Experience \n",
       "       n  missing distinct     Info     Mean      Gmd      .05      .10 \n",
       "    9597     1098       15    0.931     2.62    3.366        0        0 \n",
       "     .25      .50      .75      .90      .95 \n",
       "       0        1        4        8        9 \n",
       "\n",
       "lowest :  0  1  2  3  4, highest: 10 11 12 13 14\n",
       "                                                                            \n",
       "Value          0     1     2     3     4     5     6     7     8     9    10\n",
       "Frequency   3087  3127   373   337   346   270   265   256   612   613    64\n",
       "Proportion 0.322 0.326 0.039 0.035 0.036 0.028 0.028 0.027 0.064 0.064 0.007\n",
       "                                  \n",
       "Value         11    12    13    14\n",
       "Frequency     64    60    57    66\n",
       "Proportion 0.007 0.006 0.006 0.007\n",
       "--------------------------------------------------------------------------------\n",
       "Spending_Score \n",
       "       n  missing distinct \n",
       "   10695        0        3 \n",
       "                                  \n",
       "Value      Average    High     Low\n",
       "Frequency     2599    1602    6494\n",
       "Proportion   0.243   0.150   0.607\n",
       "--------------------------------------------------------------------------------\n",
       "Family_Size \n",
       "       n  missing distinct     Info     Mean      Gmd \n",
       "   10247      448        9    0.951    2.844    1.648 \n",
       "\n",
       "lowest : 1 2 3 4 5, highest: 5 6 7 8 9\n",
       "                                                                \n",
       "Value          1     2     3     4     5     6     7     8     9\n",
       "Frequency   1965  3158  1952  1823   812   290   122    65    60\n",
       "Proportion 0.192 0.308 0.190 0.178 0.079 0.028 0.012 0.006 0.006\n",
       "--------------------------------------------------------------------------------\n",
       "Var_1 \n",
       "       n  missing distinct \n",
       "   10587      108        7 \n",
       "\n",
       "lowest : Cat_1 Cat_2 Cat_3 Cat_4 Cat_5, highest: Cat_3 Cat_4 Cat_5 Cat_6 Cat_7\n",
       "                                                    \n",
       "Value      Cat_1 Cat_2 Cat_3 Cat_4 Cat_5 Cat_6 Cat_7\n",
       "Frequency    167   563  1089  1475   114  6910   269\n",
       "Proportion 0.016 0.053 0.103 0.139 0.011 0.653 0.025\n",
       "--------------------------------------------------------------------------------"
      ]
     },
     "metadata": {},
     "output_type": "display_data"
    }
   ],
   "source": [
    "library(Hmisc)\n",
    "describe(data)"
   ]
  },
  {
   "cell_type": "code",
   "execution_count": 4,
   "id": "6eb97828",
   "metadata": {
    "scrolled": true
   },
   "outputs": [
    {
     "data": {
      "text/html": [
       "<table class=\"dataframe\">\n",
       "<caption>A data.frame: 6 × 9</caption>\n",
       "<thead>\n",
       "\t<tr><th></th><th scope=col>ID</th><th scope=col>Gender</th><th scope=col>Ever_Married</th><th scope=col>Age</th><th scope=col>Graduated</th><th scope=col>Profession</th><th scope=col>Work_Experience</th><th scope=col>Spending_Score</th><th scope=col>Family_Size</th></tr>\n",
       "\t<tr><th></th><th scope=col>&lt;int&gt;</th><th scope=col>&lt;chr&gt;</th><th scope=col>&lt;chr&gt;</th><th scope=col>&lt;int&gt;</th><th scope=col>&lt;chr&gt;</th><th scope=col>&lt;chr&gt;</th><th scope=col>&lt;int&gt;</th><th scope=col>&lt;chr&gt;</th><th scope=col>&lt;int&gt;</th></tr>\n",
       "</thead>\n",
       "<tbody>\n",
       "\t<tr><th scope=row>1</th><td>462809</td><td>Male  </td><td>No </td><td>22</td><td>No </td><td>Healthcare   </td><td> 1</td><td>Low    </td><td>4</td></tr>\n",
       "\t<tr><th scope=row>2</th><td>462643</td><td>Female</td><td>Yes</td><td>38</td><td>Yes</td><td>Engineer     </td><td>NA</td><td>Average</td><td>3</td></tr>\n",
       "\t<tr><th scope=row>3</th><td>466315</td><td>Female</td><td>Yes</td><td>67</td><td>Yes</td><td>Engineer     </td><td> 1</td><td>Low    </td><td>1</td></tr>\n",
       "\t<tr><th scope=row>4</th><td>461735</td><td>Male  </td><td>Yes</td><td>67</td><td>Yes</td><td>Lawyer       </td><td> 0</td><td>High   </td><td>2</td></tr>\n",
       "\t<tr><th scope=row>5</th><td>462669</td><td>Female</td><td>Yes</td><td>40</td><td>Yes</td><td>Entertainment</td><td>NA</td><td>High   </td><td>6</td></tr>\n",
       "\t<tr><th scope=row>6</th><td>461319</td><td>Male  </td><td>Yes</td><td>56</td><td>No </td><td>Artist       </td><td> 0</td><td>Average</td><td>2</td></tr>\n",
       "</tbody>\n",
       "</table>\n"
      ],
      "text/latex": [
       "A data.frame: 6 × 9\n",
       "\\begin{tabular}{r|lllllllll}\n",
       "  & ID & Gender & Ever\\_Married & Age & Graduated & Profession & Work\\_Experience & Spending\\_Score & Family\\_Size\\\\\n",
       "  & <int> & <chr> & <chr> & <int> & <chr> & <chr> & <int> & <chr> & <int>\\\\\n",
       "\\hline\n",
       "\t1 & 462809 & Male   & No  & 22 & No  & Healthcare    &  1 & Low     & 4\\\\\n",
       "\t2 & 462643 & Female & Yes & 38 & Yes & Engineer      & NA & Average & 3\\\\\n",
       "\t3 & 466315 & Female & Yes & 67 & Yes & Engineer      &  1 & Low     & 1\\\\\n",
       "\t4 & 461735 & Male   & Yes & 67 & Yes & Lawyer        &  0 & High    & 2\\\\\n",
       "\t5 & 462669 & Female & Yes & 40 & Yes & Entertainment & NA & High    & 6\\\\\n",
       "\t6 & 461319 & Male   & Yes & 56 & No  & Artist        &  0 & Average & 2\\\\\n",
       "\\end{tabular}\n"
      ],
      "text/markdown": [
       "\n",
       "A data.frame: 6 × 9\n",
       "\n",
       "| <!--/--> | ID &lt;int&gt; | Gender &lt;chr&gt; | Ever_Married &lt;chr&gt; | Age &lt;int&gt; | Graduated &lt;chr&gt; | Profession &lt;chr&gt; | Work_Experience &lt;int&gt; | Spending_Score &lt;chr&gt; | Family_Size &lt;int&gt; |\n",
       "|---|---|---|---|---|---|---|---|---|---|\n",
       "| 1 | 462809 | Male   | No  | 22 | No  | Healthcare    |  1 | Low     | 4 |\n",
       "| 2 | 462643 | Female | Yes | 38 | Yes | Engineer      | NA | Average | 3 |\n",
       "| 3 | 466315 | Female | Yes | 67 | Yes | Engineer      |  1 | Low     | 1 |\n",
       "| 4 | 461735 | Male   | Yes | 67 | Yes | Lawyer        |  0 | High    | 2 |\n",
       "| 5 | 462669 | Female | Yes | 40 | Yes | Entertainment | NA | High    | 6 |\n",
       "| 6 | 461319 | Male   | Yes | 56 | No  | Artist        |  0 | Average | 2 |\n",
       "\n"
      ],
      "text/plain": [
       "  ID     Gender Ever_Married Age Graduated Profession    Work_Experience\n",
       "1 462809 Male   No           22  No        Healthcare     1             \n",
       "2 462643 Female Yes          38  Yes       Engineer      NA             \n",
       "3 466315 Female Yes          67  Yes       Engineer       1             \n",
       "4 461735 Male   Yes          67  Yes       Lawyer         0             \n",
       "5 462669 Female Yes          40  Yes       Entertainment NA             \n",
       "6 461319 Male   Yes          56  No        Artist         0             \n",
       "  Spending_Score Family_Size\n",
       "1 Low            4          \n",
       "2 Average        3          \n",
       "3 Low            1          \n",
       "4 High           2          \n",
       "5 High           6          \n",
       "6 Average        2          "
      ]
     },
     "metadata": {},
     "output_type": "display_data"
    }
   ],
   "source": [
    "drops <- c(\"Var_1\")\n",
    "data <- data[ ,!(names(data) %in% drops)]\n",
    "\n",
    "head(data)"
   ]
  },
  {
   "cell_type": "markdown",
   "id": "530b285b",
   "metadata": {},
   "source": [
    "### Checking for Missing Values"
   ]
  },
  {
   "cell_type": "code",
   "execution_count": 6,
   "id": "f50a86f7",
   "metadata": {},
   "outputs": [
    {
     "data": {
      "text/html": [
       "<dl>\n",
       "\t<dt>$ID</dt>\n",
       "\t\t<dd>0</dd>\n",
       "\t<dt>$Gender</dt>\n",
       "\t\t<dd>0</dd>\n",
       "\t<dt>$Ever_Married</dt>\n",
       "\t\t<dd>190</dd>\n",
       "\t<dt>$Age</dt>\n",
       "\t\t<dd>0</dd>\n",
       "\t<dt>$Graduated</dt>\n",
       "\t\t<dd>102</dd>\n",
       "\t<dt>$Profession</dt>\n",
       "\t\t<dd>162</dd>\n",
       "\t<dt>$Work_Experience</dt>\n",
       "\t\t<dd>1098</dd>\n",
       "\t<dt>$Spending_Score</dt>\n",
       "\t\t<dd>0</dd>\n",
       "\t<dt>$Family_Size</dt>\n",
       "\t\t<dd>448</dd>\n",
       "</dl>\n"
      ],
      "text/latex": [
       "\\begin{description}\n",
       "\\item[\\$ID] 0\n",
       "\\item[\\$Gender] 0\n",
       "\\item[\\$Ever\\_Married] 190\n",
       "\\item[\\$Age] 0\n",
       "\\item[\\$Graduated] 102\n",
       "\\item[\\$Profession] 162\n",
       "\\item[\\$Work\\_Experience] 1098\n",
       "\\item[\\$Spending\\_Score] 0\n",
       "\\item[\\$Family\\_Size] 448\n",
       "\\end{description}\n"
      ],
      "text/markdown": [
       "$ID\n",
       ":   0\n",
       "$Gender\n",
       ":   0\n",
       "$Ever_Married\n",
       ":   190\n",
       "$Age\n",
       ":   0\n",
       "$Graduated\n",
       ":   102\n",
       "$Profession\n",
       ":   162\n",
       "$Work_Experience\n",
       ":   1098\n",
       "$Spending_Score\n",
       ":   0\n",
       "$Family_Size\n",
       ":   448\n",
       "\n",
       "\n"
      ],
      "text/plain": [
       "$ID\n",
       "[1] 0\n",
       "\n",
       "$Gender\n",
       "[1] 0\n",
       "\n",
       "$Ever_Married\n",
       "[1] 190\n",
       "\n",
       "$Age\n",
       "[1] 0\n",
       "\n",
       "$Graduated\n",
       "[1] 102\n",
       "\n",
       "$Profession\n",
       "[1] 162\n",
       "\n",
       "$Work_Experience\n",
       "[1] 1098\n",
       "\n",
       "$Spending_Score\n",
       "[1] 0\n",
       "\n",
       "$Family_Size\n",
       "[1] 448\n"
      ]
     },
     "metadata": {},
     "output_type": "display_data"
    }
   ],
   "source": [
    "#handling black values and NA values:\n",
    "data[data==\"\"] <- NA\n",
    "\n",
    "lapply(data, function(x) {length(which(is.na(x)))})"
   ]
  },
  {
   "cell_type": "markdown",
   "id": "b125997b",
   "metadata": {},
   "source": [
    "### Replacing with mode for categorical and mean for continuous"
   ]
  },
  {
   "cell_type": "code",
   "execution_count": null,
   "id": "717aa465",
   "metadata": {},
   "outputs": [],
   "source": [
    "getmode <- function(v) {\n",
    "    uniqv <- unique(v)\n",
    "    uniqv[which.max(tabulate(match(v, uniqv)))]\n",
    "}"
   ]
  },
  {
   "cell_type": "code",
   "execution_count": null,
   "id": "e065e794",
   "metadata": {},
   "outputs": [],
   "source": [
    "data$Ever_Married[is.na(data$Ever_Married)] <- getmode(data$Ever_Married)\n",
    "data$Graduated[is.na(data$Graduated)] <- getmode(data$Graduated)\n",
    "data$Profession[is.na(data$Profession)] <- getmode(data$Profession)\n",
    "data$Work_Experience[is.na(data$Work_Experience)] <-mean(data$Work_Experience, na.rm = TRUE)"
   ]
  }
 ],
 "metadata": {
  "kernelspec": {
   "display_name": "R",
   "language": "R",
   "name": "ir"
  },
  "language_info": {
   "codemirror_mode": "r",
   "file_extension": ".r",
   "mimetype": "text/x-r-source",
   "name": "R",
   "pygments_lexer": "r",
   "version": "4.2.2"
  }
 },
 "nbformat": 4,
 "nbformat_minor": 5
}
